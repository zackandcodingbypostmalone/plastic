{
  "nbformat": 4,
  "nbformat_minor": 0,
  "metadata": {
    "colab": {
      "name": "Curious",
      "provenance": [],
      "collapsed_sections": [],
      "authorship_tag": "ABX9TyOQUnwiR+oprBdC86yOM92G",
      "include_colab_link": true
    },
    "kernelspec": {
      "name": "python3",
      "display_name": "Python 3"
    },
    "language_info": {
      "name": "python"
    }
  },
  "cells": [
    {
      "cell_type": "markdown",
      "metadata": {
        "id": "view-in-github",
        "colab_type": "text"
      },
      "source": [
        "<a href=\"https://colab.research.google.com/github/zackandcodingbypostmalone/plastic/blob/main/Curious.ipynb\" target=\"_parent\"><img src=\"https://colab.research.google.com/assets/colab-badge.svg\" alt=\"Open In Colab\"/></a>"
      ]
    },
    {
      "cell_type": "code",
      "metadata": {
        "colab": {
          "base_uri": "https://localhost:8080/"
        },
        "cellView": "form",
        "collapsed": true,
        "id": "BwGm5N_ZeGSM",
        "outputId": "51282dcf-f2c1-4008-c27e-4bbd361010e2"
      },
      "source": [
        "#@title\n",
        "from matplotlib import pyplot as plt\n",
        "!pip install geopandas\n",
        "import pandas as pd\n",
        "import geopandas as gpd\n",
        "import numpy as np\n",
        "import datetime\n",
        "\n",
        "import plotly.express as px\n",
        "import plotly.graph_objects as go"
      ],
      "execution_count": 115,
      "outputs": [
        {
          "output_type": "stream",
          "name": "stdout",
          "text": [
            "Requirement already satisfied: geopandas in /usr/local/lib/python3.7/dist-packages (0.9.0)\n",
            "Requirement already satisfied: pandas>=0.24.0 in /usr/local/lib/python3.7/dist-packages (from geopandas) (1.1.5)\n",
            "Requirement already satisfied: pyproj>=2.2.0 in /usr/local/lib/python3.7/dist-packages (from geopandas) (3.1.0)\n",
            "Requirement already satisfied: fiona>=1.8 in /usr/local/lib/python3.7/dist-packages (from geopandas) (1.8.20)\n",
            "Requirement already satisfied: shapely>=1.6 in /usr/local/lib/python3.7/dist-packages (from geopandas) (1.7.1)\n",
            "Requirement already satisfied: click-plugins>=1.0 in /usr/local/lib/python3.7/dist-packages (from fiona>=1.8->geopandas) (1.1.1)\n",
            "Requirement already satisfied: setuptools in /usr/local/lib/python3.7/dist-packages (from fiona>=1.8->geopandas) (57.4.0)\n",
            "Requirement already satisfied: attrs>=17 in /usr/local/lib/python3.7/dist-packages (from fiona>=1.8->geopandas) (21.2.0)\n",
            "Requirement already satisfied: cligj>=0.5 in /usr/local/lib/python3.7/dist-packages (from fiona>=1.8->geopandas) (0.7.2)\n",
            "Requirement already satisfied: six>=1.7 in /usr/local/lib/python3.7/dist-packages (from fiona>=1.8->geopandas) (1.15.0)\n",
            "Requirement already satisfied: munch in /usr/local/lib/python3.7/dist-packages (from fiona>=1.8->geopandas) (2.5.0)\n",
            "Requirement already satisfied: certifi in /usr/local/lib/python3.7/dist-packages (from fiona>=1.8->geopandas) (2021.5.30)\n",
            "Requirement already satisfied: click>=4.0 in /usr/local/lib/python3.7/dist-packages (from fiona>=1.8->geopandas) (7.1.2)\n",
            "Requirement already satisfied: python-dateutil>=2.7.3 in /usr/local/lib/python3.7/dist-packages (from pandas>=0.24.0->geopandas) (2.8.2)\n",
            "Requirement already satisfied: numpy>=1.15.4 in /usr/local/lib/python3.7/dist-packages (from pandas>=0.24.0->geopandas) (1.19.5)\n",
            "Requirement already satisfied: pytz>=2017.2 in /usr/local/lib/python3.7/dist-packages (from pandas>=0.24.0->geopandas) (2018.9)\n"
          ]
        }
      ]
    },
    {
      "cell_type": "code",
      "metadata": {
        "cellView": "form",
        "id": "voh7Fw45flvg"
      },
      "source": [
        "#@title\n",
        "gdf = gpd.GeoDataFrame.from_file('https://docs.google.com/uc?id=1JXdn72Ur1fMMXCfksNqt5b-7JCD0-WAV&export=download')"
      ],
      "execution_count": 100,
      "outputs": []
    },
    {
      "cell_type": "code",
      "metadata": {
        "colab": {
          "base_uri": "https://localhost:8080/",
          "height": 283
        },
        "id": "fiwnpyCEfo0e",
        "outputId": "3f29baa6-27e1-4e74-ecc1-5ba69506c28e"
      },
      "source": [
        "#this is me isolating crude-looking Ireland bc I can\n",
        "mask = gdf['ADMIN'] == 'Ireland'\n",
        "gdf[mask].plot()"
      ],
      "execution_count": 112,
      "outputs": [
        {
          "output_type": "execute_result",
          "data": {
            "text/plain": [
              "<matplotlib.axes._subplots.AxesSubplot at 0x7f1eb1388f50>"
            ]
          },
          "metadata": {},
          "execution_count": 112
        },
        {
          "output_type": "display_data",
          "data": {
            "image/png": "[encoded data removed]",
            "text/plain": [
              "<Figure size 432x288 with 1 Axes>"
            ]
          },
          "metadata": {
            "needs_background": "light"
          }
        }
      ]
    },
    {
      "cell_type": "code",
      "metadata": {
        "colab": {
          "base_uri": "https://localhost:8080/",
          "height": 423
        },
        "collapsed": true,
        "cellView": "form",
        "id": "L5GFF2NgiF0H",
        "outputId": "70a47eaf-1e7d-46ae-8000-6ef6a91db68c"
      },
      "source": [
        "#@title\n",
        "df = pd.read_csv('https://docs.google.com/spreadsheets/d/e/2PACX-1vSHo1FzmCpYdNRoMgBZSPTzxhHE-yI0bRohAvi0QetFhIF6MlZfpxGKXwyg5Zxm37jniEQWXC5Pm9O1/pub?output=csv')\n",
        "df "
      ],
      "execution_count": 104,
      "outputs": [
        {
          "output_type": "execute_result",
          "data": {
            "text/html": [
              "<div>\n",
              "<style scoped>\n",
              "    .dataframe tbody tr th:only-of-type {\n",
              "        vertical-align: middle;\n",
              "    }\n",
              "\n",
              "    .dataframe tbody tr th {\n",
              "        vertical-align: top;\n",
              "    }\n",
              "\n",
              "    .dataframe thead th {\n",
              "        text-align: right;\n",
              "    }\n",
              "</style>\n",
              "<table border=\"1\" class=\"dataframe\">\n",
              "  <thead>\n",
              "    <tr style=\"text-align: right;\">\n",
              "      <th></th>\n",
              "      <th>Entity</th>\n",
              "      <th>Year</th>\n",
              "      <th>Plastic waste generated (% global total)</th>\n",
              "      <th>Mismanaged waste (% global total)</th>\n",
              "      <th>Mismanaged waste in 2025 (% global total)</th>\n",
              "    </tr>\n",
              "  </thead>\n",
              "  <tbody>\n",
              "    <tr>\n",
              "      <th>0</th>\n",
              "      <td>Albania</td>\n",
              "      <td>2010</td>\n",
              "      <td>0.0640</td>\n",
              "      <td>0.0933</td>\n",
              "      <td>0.0913</td>\n",
              "    </tr>\n",
              "    <tr>\n",
              "      <th>1</th>\n",
              "      <td>Albania</td>\n",
              "      <td>2025</td>\n",
              "      <td>0.0913</td>\n",
              "      <td>NaN</td>\n",
              "      <td>NaN</td>\n",
              "    </tr>\n",
              "    <tr>\n",
              "      <th>2</th>\n",
              "      <td>Algeria</td>\n",
              "      <td>2010</td>\n",
              "      <td>0.8712</td>\n",
              "      <td>1.6347</td>\n",
              "      <td>1.4729</td>\n",
              "    </tr>\n",
              "    <tr>\n",
              "      <th>3</th>\n",
              "      <td>Algeria</td>\n",
              "      <td>2025</td>\n",
              "      <td>1.4729</td>\n",
              "      <td>NaN</td>\n",
              "      <td>NaN</td>\n",
              "    </tr>\n",
              "    <tr>\n",
              "      <th>4</th>\n",
              "      <td>Angola</td>\n",
              "      <td>2010</td>\n",
              "      <td>0.0864</td>\n",
              "      <td>0.1964</td>\n",
              "      <td>0.1980</td>\n",
              "    </tr>\n",
              "    <tr>\n",
              "      <th>...</th>\n",
              "      <td>...</td>\n",
              "      <td>...</td>\n",
              "      <td>...</td>\n",
              "      <td>...</td>\n",
              "      <td>...</td>\n",
              "    </tr>\n",
              "    <tr>\n",
              "      <th>367</th>\n",
              "      <td>Venezuela</td>\n",
              "      <td>2025</td>\n",
              "      <td>0.2233</td>\n",
              "      <td>NaN</td>\n",
              "      <td>NaN</td>\n",
              "    </tr>\n",
              "    <tr>\n",
              "      <th>368</th>\n",
              "      <td>Vietnam</td>\n",
              "      <td>2010</td>\n",
              "      <td>2.0969</td>\n",
              "      <td>5.7588</td>\n",
              "      <td>6.0407</td>\n",
              "    </tr>\n",
              "    <tr>\n",
              "      <th>369</th>\n",
              "      <td>Vietnam</td>\n",
              "      <td>2025</td>\n",
              "      <td>6.0407</td>\n",
              "      <td>NaN</td>\n",
              "      <td>NaN</td>\n",
              "    </tr>\n",
              "    <tr>\n",
              "      <th>370</th>\n",
              "      <td>Yemen</td>\n",
              "      <td>2010</td>\n",
              "      <td>0.2270</td>\n",
              "      <td>0.5310</td>\n",
              "      <td>0.7440</td>\n",
              "    </tr>\n",
              "    <tr>\n",
              "      <th>371</th>\n",
              "      <td>Yemen</td>\n",
              "      <td>2025</td>\n",
              "      <td>0.7440</td>\n",
              "      <td>NaN</td>\n",
              "      <td>NaN</td>\n",
              "    </tr>\n",
              "  </tbody>\n",
              "</table>\n",
              "<p>372 rows × 5 columns</p>\n",
              "</div>"
            ],
            "text/plain": [
              "        Entity  ...  Mismanaged waste in 2025 (% global total)\n",
              "0      Albania  ...                                     0.0913\n",
              "1      Albania  ...                                        NaN\n",
              "2      Algeria  ...                                     1.4729\n",
              "3      Algeria  ...                                        NaN\n",
              "4       Angola  ...                                     0.1980\n",
              "..         ...  ...                                        ...\n",
              "367  Venezuela  ...                                        NaN\n",
              "368    Vietnam  ...                                     6.0407\n",
              "369    Vietnam  ...                                        NaN\n",
              "370      Yemen  ...                                     0.7440\n",
              "371      Yemen  ...                                        NaN\n",
              "\n",
              "[372 rows x 5 columns]"
            ]
          },
          "metadata": {},
          "execution_count": 104
        }
      ]
    },
    {
      "cell_type": "code",
      "metadata": {
        "colab": {
          "base_uri": "https://localhost:8080/",
          "height": 542
        },
        "cellView": "form",
        "id": "U0X8VVh1yDse",
        "outputId": "832263e2-499c-4c4a-9dbc-0c939d6e0525"
      },
      "source": [
        "#@title\n",
        "merged = gdf.merge(df, left_on='ADMIN', right_on='Entity')\n",
        "\n",
        "merged = merged.loc[merged.Year == 2010,:]\n",
        "\n",
        "fig = go.Figure(data=go.Choropleth(\n",
        "    locations = merged['GU_A3'],\n",
        "    z = merged['Plastic waste generated (% global total)'],\n",
        "    text = merged['Entity'],\n",
        "    colorscale = 'Blues',\n",
        "    autocolorscale=False,\n",
        "    reversescale=True,\n",
        "    marker_line_color='darkgray',\n",
        "    marker_line_width=0.5,\n",
        "    colorbar_ticksuffix = '%',\n",
        "    colorbar_title = '% of Global Total',\n",
        "))\n",
        "\n",
        "fig.update_layout(\n",
        "    title_text='Plastic Waste Generated By Country in 2010',\n",
        "    geo=dict(\n",
        "        showframe=False,\n",
        "        showcoastlines=False,\n",
        "        projection_type='equirectangular'\n",
        "    ),\n",
        "    annotations = [dict(\n",
        "        x=0.55,\n",
        "        y=0.1,\n",
        "        xref='paper',\n",
        "        yref='paper',\n",
        "        text='Source: <a href=\"https://github.com/owid/owid-datasets/blob/master/datasets/Plastic%20waste%20percentages%20-%20Jambeck%20et%20al.%20(2015)/README.md#plastic-waste-percentages---jambeck-et-al-2015.html\">\\\n",
        "            GitHub</a>',\n",
        "        showarrow = False\n",
        "    )]\n",
        ")\n",
        "\n",
        "fig.show()\n"
      ],
      "execution_count": 111,
      "outputs": [
        {
          "output_type": "display_data",
          "data": {
            "text/html": [
              "<html>\n",
              "<head><meta charset=\"utf-8\" /></head>\n",
              "<body>\n",
              "    <div>\n",
              "            <script src=\"https://cdnjs.cloudflare.com/ajax/libs/mathjax/2.7.5/MathJax.js?config=TeX-AMS-MML_SVG\"></script><script type=\"text/javascript\">if (window.MathJax) {MathJax.Hub.Config({SVG: {font: \"STIX-Web\"}});}</script>\n",
              "                <script type=\"text/javascript\">window.PlotlyConfig = {MathJaxConfig: 'local'};</script>\n",
              "        <script src=\"https://cdn.plot.ly/plotly-latest.min.js\"></script>    \n",
              "            <div id=\"0d693196-33fa-40e3-a9fa-a63d26549712\" class=\"plotly-graph-div\" style=\"height:525px; width:100%;\"></div>\n",
              "            <script type=\"text/javascript\">\n",
              "                \n",
              "                    window.PLOTLYENV=window.PLOTLYENV || {};\n",
              "                    \n",
              "                if (document.getElementById(\"0d693196-33fa-40e3-a9fa-a63d26549712\")) {\n",
              "                    Plotly.newPlot(\n",
              "                        '0d693196-33fa-40e3-a9fa-a63d26549712',\n",
              "                        [{\"autocolorscale\": false, \"colorbar\": {\"ticksuffix\": \"%\", \"title\": {\"text\": \"% of Global Total\"}}, \"colorscale\": [[0.0, \"rgb(247,251,255)\"], [0.125, \"rgb(222,235,247)\"], [0.25, \"rgb(198,219,239)\"], [0.375, \"rgb(158,202,225)\"], [0.5, \"rgb(107,174,214)\"], [0.625, \"rgb(66,146,198)\"], [0.75, \"rgb(33,113,181)\"], [0.875, \"rgb(8,81,156)\"], [1.0, \"rgb(8,48,107)\"]], \"locations\": [\"FJI\", \"CAN\", \"USA\", \"PNG\", \"IDN\", \"ARG\", \"CHL\", \"SOM\", \"KEN\", \"SDN\", \"HTI\", \"DOM\", \"RUS\", \"FLK\", \"NOR\", \"GRL\", \"ZAF\", \"MEX\", \"URY\", \"BRA\", \"PER\", \"COL\", \"PAN\", \"CRI\", \"NIC\", \"HND\", \"SLV\", \"GTM\", \"BLZ\", \"VEN\", \"GUY\", \"SUR\", \"FRA\", \"ECU\", \"PRI\", \"JAM\", \"CUB\", \"NAM\", \"SEN\", \"MRT\", \"BEN\", \"NGA\", \"CMR\", \"TGO\", \"GHA\", \"GIN\", \"GNB\", \"LBR\", \"SLE\", \"GAB\", \"GNQ\", \"MOZ\", \"AGO\", \"ISR\", \"LBN\", \"MDG\", \"PSX\", \"GMB\", \"TUN\", \"DZA\", \"JOR\", \"ARE\", \"QAT\", \"KWT\", \"IRQ\", \"OMN\", \"VUT\", \"KHM\", \"THA\", \"MMR\", \"VNM\", \"PRK\", \"KOR\", \"IND\", \"BGD\", \"PAK\", \"IRN\", \"SYR\", \"SWE\", \"UKR\", \"POL\", \"ROU\", \"LTU\", \"LVA\", \"EST\", \"DEU\", \"BGR\", \"GRC\", \"TUR\", \"ALB\", \"HRV\", \"BEL\", \"NLD\", \"PRT\", \"ESP\", \"IRL\", \"NCL\", \"SLB\", \"NZL\", \"AUS\", \"LKA\", \"CHN\", \"TWN\", \"ITA\", \"DNK\", \"GBR\", \"ISL\", \"GEO\", \"PHL\", \"MYS\", \"BRN\", \"SVN\", \"FIN\", \"ERI\", \"JPN\", \"YEM\", \"SAU\", \"CYP\", \"MAR\", \"EGY\", \"LBY\", \"DJI\", \"BIH\", \"MNE\", \"TTO\"], \"marker\": {\"line\": {\"color\": \"darkgray\", \"width\": 0.5}}, \"reversescale\": true, \"text\": [\"Fiji\", \"Canada\", \"United States of America\", \"Papua New Guinea\", \"Indonesia\", \"Argentina\", \"Chile\", \"Somalia\", \"Kenya\", \"Sudan\", \"Haiti\", \"Dominican Republic\", \"Russia\", \"Falkland Islands\", \"Norway\", \"Greenland\", \"South Africa\", \"Mexico\", \"Uruguay\", \"Brazil\", \"Peru\", \"Colombia\", \"Panama\", \"Costa Rica\", \"Nicaragua\", \"Honduras\", \"El Salvador\", \"Guatemala\", \"Belize\", \"Venezuela\", \"Guyana\", \"Suriname\", \"France\", \"Ecuador\", \"Puerto Rico\", \"Jamaica\", \"Cuba\", \"Namibia\", \"Senegal\", \"Mauritania\", \"Benin\", \"Nigeria\", \"Cameroon\", \"Togo\", \"Ghana\", \"Guinea\", \"Guinea-Bissau\", \"Liberia\", \"Sierra Leone\", \"Gabon\", \"Equatorial Guinea\", \"Mozambique\", \"Angola\", \"Israel\", \"Lebanon\", \"Madagascar\", \"Palestine\", \"Gambia\", \"Tunisia\", \"Algeria\", \"Jordan\", \"United Arab Emirates\", \"Qatar\", \"Kuwait\", \"Iraq\", \"Oman\", \"Vanuatu\", \"Cambodia\", \"Thailand\", \"Myanmar\", \"Vietnam\", \"North Korea\", \"South Korea\", \"India\", \"Bangladesh\", \"Pakistan\", \"Iran\", \"Syria\", \"Sweden\", \"Ukraine\", \"Poland\", \"Romania\", \"Lithuania\", \"Latvia\", \"Estonia\", \"Germany\", \"Bulgaria\", \"Greece\", \"Turkey\", \"Albania\", \"Croatia\", \"Belgium\", \"Netherlands\", \"Portugal\", \"Spain\", \"Ireland\", \"New Caledonia\", \"Solomon Islands\", \"New Zealand\", \"Australia\", \"Sri Lanka\", \"China\", \"Taiwan\", \"Italy\", \"Denmark\", \"United Kingdom\", \"Iceland\", \"Georgia\", \"Philippines\", \"Malaysia\", \"Brunei\", \"Slovenia\", \"Finland\", \"Eritrea\", \"Japan\", \"Yemen\", \"Saudi Arabia\", \"Cyprus\", \"Morocco\", \"Egypt\", \"Libya\", \"Djibouti\", \"Bosnia and Herzegovina\", \"Montenegro\", \"Trinidad and Tobago\"], \"type\": \"choropleth\", \"z\": [0.0618, 0.4001, 13.8443, 0.1031, 3.9117, 1.1009, 0.2439, 0.1177, 0.0269, 0.0282, 0.3007, 0.4332, 0.4409, 0.0002, 0.4224, 0.0053, 1.1312, 0.7162, 0.2241, 4.5029, 0.7243, 0.3946, 0.1724, 0.2345, 0.182, 0.22899999999999998, 0.3442, 0.2449, 0.0127, 1.4821, 0.1099, 0.024, 1.2118, 0.3437, 0.3913, 0.0353, 0.3689, 0.0082, 0.305, 0.0165, 0.051, 1.0315, 0.0334, 0.0416, 0.1109, 0.0218, 0.0238, 0.066, 0.0427, 0.017, 0.0185, 0.0538, 0.0864, 0.7247, 0.1339, 0.0404, 0.0702, 0.023, 0.3828, 0.8712, 0.0029, 0.1469, 0.0381, 0.5753, 0.024, 0.0797, 0.0271, 0.0335, 1.3704, 0.5196, 2.0969, 0.3414, 1.6963, 0.69, 0.889, 0.5474, 0.4788, 0.2358, 0.1081, 0.2557, 0.1157, 0.0132, 0.0214, 0.0647, 0.0566, 1.5702, 0.0563, 0.7152, 2.6422, 0.064, 0.1476, 0.1379, 1.3923, 0.8245, 2.3048, 0.5886, 0.0237, 0.0232, 0.4667, 0.6981, 1.8947, 11.6192, 2.0453, 1.6467, 0.09, 3.3954, 0.0301, 0.0275, 2.2888, 1.6533, 0.0034, 0.0179, 0.2506, 0.0208, 7.194, 0.22699999999999998, 0.2048, 0.0763, 0.4589, 1.416, 0.2131, 0.0233, 0.0308, 0.0137, 1.7909]}],\n",
              "                        {\"annotations\": [{\"showarrow\": false, \"text\": \"Source: <a href=\\\"https://github.com/owid/owid-datasets/blob/master/datasets/Plastic%20waste%20percentages%20-%20Jambeck%20et%20al.%20(2015)/README.md#plastic-waste-percentages---jambeck-et-al-2015.html\\\">            GitHub</a>\", \"x\": 0.55, \"xref\": \"paper\", \"y\": 0.1, \"yref\": \"paper\"}], \"geo\": {\"projection\": {\"type\": \"equirectangular\"}, \"showcoastlines\": false, \"showframe\": false}, \"template\": {\"data\": {\"bar\": [{\"error_x\": {\"color\": \"#2a3f5f\"}, \"error_y\": {\"color\": \"#2a3f5f\"}, \"marker\": {\"line\": {\"color\": \"#E5ECF6\", \"width\": 0.5}}, \"type\": \"bar\"}], \"barpolar\": [{\"marker\": {\"line\": {\"color\": \"#E5ECF6\", \"width\": 0.5}}, \"type\": \"barpolar\"}], \"carpet\": [{\"aaxis\": {\"endlinecolor\": \"#2a3f5f\", \"gridcolor\": \"white\", \"linecolor\": \"white\", \"minorgridcolor\": \"white\", \"startlinecolor\": \"#2a3f5f\"}, \"baxis\": {\"endlinecolor\": \"#2a3f5f\", \"gridcolor\": \"white\", \"linecolor\": \"white\", \"minorgridcolor\": \"white\", \"startlinecolor\": \"#2a3f5f\"}, \"type\": \"carpet\"}], \"choropleth\": [{\"colorbar\": {\"outlinewidth\": 0, \"ticks\": \"\"}, \"type\": \"choropleth\"}], \"contour\": [{\"colorbar\": {\"outlinewidth\": 0, \"ticks\": \"\"}, \"colorscale\": [[0.0, \"#0d0887\"], [0.1111111111111111, \"#46039f\"], [0.2222222222222222, \"#7201a8\"], [0.3333333333333333, \"#9c179e\"], [0.4444444444444444, \"#bd3786\"], [0.5555555555555556, \"#d8576b\"], [0.6666666666666666, \"#ed7953\"], [0.7777777777777778, \"#fb9f3a\"], [0.8888888888888888, \"#fdca26\"], [1.0, \"#f0f921\"]], \"type\": \"contour\"}], \"contourcarpet\": [{\"colorbar\": {\"outlinewidth\": 0, \"ticks\": \"\"}, \"type\": \"contourcarpet\"}], \"heatmap\": [{\"colorbar\": {\"outlinewidth\": 0, \"ticks\": \"\"}, \"colorscale\": [[0.0, \"#0d0887\"], [0.1111111111111111, \"#46039f\"], [0.2222222222222222, \"#7201a8\"], [0.3333333333333333, \"#9c179e\"], [0.4444444444444444, \"#bd3786\"], [0.5555555555555556, \"#d8576b\"], [0.6666666666666666, \"#ed7953\"], [0.7777777777777778, \"#fb9f3a\"], [0.8888888888888888, \"#fdca26\"], [1.0, \"#f0f921\"]], \"type\": \"heatmap\"}], \"heatmapgl\": [{\"colorbar\": {\"outlinewidth\": 0, \"ticks\": \"\"}, \"colorscale\": [[0.0, \"#0d0887\"], [0.1111111111111111, \"#46039f\"], [0.2222222222222222, \"#7201a8\"], [0.3333333333333333, \"#9c179e\"], [0.4444444444444444, \"#bd3786\"], [0.5555555555555556, \"#d8576b\"], [0.6666666666666666, \"#ed7953\"], [0.7777777777777778, \"#fb9f3a\"], [0.8888888888888888, \"#fdca26\"], [1.0, \"#f0f921\"]], \"type\": \"heatmapgl\"}], \"histogram\": [{\"marker\": {\"colorbar\": {\"outlinewidth\": 0, \"ticks\": \"\"}}, \"type\": \"histogram\"}], \"histogram2d\": [{\"colorbar\": {\"outlinewidth\": 0, \"ticks\": \"\"}, \"colorscale\": [[0.0, \"#0d0887\"], [0.1111111111111111, \"#46039f\"], [0.2222222222222222, \"#7201a8\"], [0.3333333333333333, \"#9c179e\"], [0.4444444444444444, \"#bd3786\"], [0.5555555555555556, \"#d8576b\"], [0.6666666666666666, \"#ed7953\"], [0.7777777777777778, \"#fb9f3a\"], [0.8888888888888888, \"#fdca26\"], [1.0, \"#f0f921\"]], \"type\": \"histogram2d\"}], \"histogram2dcontour\": [{\"colorbar\": {\"outlinewidth\": 0, \"ticks\": \"\"}, \"colorscale\": [[0.0, \"#0d0887\"], [0.1111111111111111, \"#46039f\"], [0.2222222222222222, \"#7201a8\"], [0.3333333333333333, \"#9c179e\"], [0.4444444444444444, \"#bd3786\"], [0.5555555555555556, \"#d8576b\"], [0.6666666666666666, \"#ed7953\"], [0.7777777777777778, \"#fb9f3a\"], [0.8888888888888888, \"#fdca26\"], [1.0, \"#f0f921\"]], \"type\": \"histogram2dcontour\"}], \"mesh3d\": [{\"colorbar\": {\"outlinewidth\": 0, \"ticks\": \"\"}, \"type\": \"mesh3d\"}], \"parcoords\": [{\"line\": {\"colorbar\": {\"outlinewidth\": 0, \"ticks\": \"\"}}, \"type\": \"parcoords\"}], \"pie\": [{\"automargin\": true, \"type\": \"pie\"}], \"scatter\": [{\"marker\": {\"colorbar\": {\"outlinewidth\": 0, \"ticks\": \"\"}}, \"type\": \"scatter\"}], \"scatter3d\": [{\"line\": {\"colorbar\": {\"outlinewidth\": 0, \"ticks\": \"\"}}, \"marker\": {\"colorbar\": {\"outlinewidth\": 0, \"ticks\": \"\"}}, \"type\": \"scatter3d\"}], \"scattercarpet\": [{\"marker\": {\"colorbar\": {\"outlinewidth\": 0, \"ticks\": \"\"}}, \"type\": \"scattercarpet\"}], \"scattergeo\": [{\"marker\": {\"colorbar\": {\"outlinewidth\": 0, \"ticks\": \"\"}}, \"type\": \"scattergeo\"}], \"scattergl\": [{\"marker\": {\"colorbar\": {\"outlinewidth\": 0, \"ticks\": \"\"}}, \"type\": \"scattergl\"}], \"scattermapbox\": [{\"marker\": {\"colorbar\": {\"outlinewidth\": 0, \"ticks\": \"\"}}, \"type\": \"scattermapbox\"}], \"scatterpolar\": [{\"marker\": {\"colorbar\": {\"outlinewidth\": 0, \"ticks\": \"\"}}, \"type\": \"scatterpolar\"}], \"scatterpolargl\": [{\"marker\": {\"colorbar\": {\"outlinewidth\": 0, \"ticks\": \"\"}}, \"type\": \"scatterpolargl\"}], \"scatterternary\": [{\"marker\": {\"colorbar\": {\"outlinewidth\": 0, \"ticks\": \"\"}}, \"type\": \"scatterternary\"}], \"surface\": [{\"colorbar\": {\"outlinewidth\": 0, \"ticks\": \"\"}, \"colorscale\": [[0.0, \"#0d0887\"], [0.1111111111111111, \"#46039f\"], [0.2222222222222222, \"#7201a8\"], [0.3333333333333333, \"#9c179e\"], [0.4444444444444444, \"#bd3786\"], [0.5555555555555556, \"#d8576b\"], [0.6666666666666666, \"#ed7953\"], [0.7777777777777778, \"#fb9f3a\"], [0.8888888888888888, \"#fdca26\"], [1.0, \"#f0f921\"]], \"type\": \"surface\"}], \"table\": [{\"cells\": {\"fill\": {\"color\": \"#EBF0F8\"}, \"line\": {\"color\": \"white\"}}, \"header\": {\"fill\": {\"color\": \"#C8D4E3\"}, \"line\": {\"color\": \"white\"}}, \"type\": \"table\"}]}, \"layout\": {\"annotationdefaults\": {\"arrowcolor\": \"#2a3f5f\", \"arrowhead\": 0, \"arrowwidth\": 1}, \"coloraxis\": {\"colorbar\": {\"outlinewidth\": 0, \"ticks\": \"\"}}, \"colorscale\": {\"diverging\": [[0, \"#8e0152\"], [0.1, \"#c51b7d\"], [0.2, \"#de77ae\"], [0.3, \"#f1b6da\"], [0.4, \"#fde0ef\"], [0.5, \"#f7f7f7\"], [0.6, \"#e6f5d0\"], [0.7, \"#b8e186\"], [0.8, \"#7fbc41\"], [0.9, \"#4d9221\"], [1, \"#276419\"]], \"sequential\": [[0.0, \"#0d0887\"], [0.1111111111111111, \"#46039f\"], [0.2222222222222222, \"#7201a8\"], [0.3333333333333333, \"#9c179e\"], [0.4444444444444444, \"#bd3786\"], [0.5555555555555556, \"#d8576b\"], [0.6666666666666666, \"#ed7953\"], [0.7777777777777778, \"#fb9f3a\"], [0.8888888888888888, \"#fdca26\"], [1.0, \"#f0f921\"]], \"sequentialminus\": [[0.0, \"#0d0887\"], [0.1111111111111111, \"#46039f\"], [0.2222222222222222, \"#7201a8\"], [0.3333333333333333, \"#9c179e\"], [0.4444444444444444, \"#bd3786\"], [0.5555555555555556, \"#d8576b\"], [0.6666666666666666, \"#ed7953\"], [0.7777777777777778, \"#fb9f3a\"], [0.8888888888888888, \"#fdca26\"], [1.0, \"#f0f921\"]]}, \"colorway\": [\"#636efa\", \"#EF553B\", \"#00cc96\", \"#ab63fa\", \"#FFA15A\", \"#19d3f3\", \"#FF6692\", \"#B6E880\", \"#FF97FF\", \"#FECB52\"], \"font\": {\"color\": \"#2a3f5f\"}, \"geo\": {\"bgcolor\": \"white\", \"lakecolor\": \"white\", \"landcolor\": \"#E5ECF6\", \"showlakes\": true, \"showland\": true, \"subunitcolor\": \"white\"}, \"hoverlabel\": {\"align\": \"left\"}, \"hovermode\": \"closest\", \"mapbox\": {\"style\": \"light\"}, \"paper_bgcolor\": \"white\", \"plot_bgcolor\": \"#E5ECF6\", \"polar\": {\"angularaxis\": {\"gridcolor\": \"white\", \"linecolor\": \"white\", \"ticks\": \"\"}, \"bgcolor\": \"#E5ECF6\", \"radialaxis\": {\"gridcolor\": \"white\", \"linecolor\": \"white\", \"ticks\": \"\"}}, \"scene\": {\"xaxis\": {\"backgroundcolor\": \"#E5ECF6\", \"gridcolor\": \"white\", \"gridwidth\": 2, \"linecolor\": \"white\", \"showbackground\": true, \"ticks\": \"\", \"zerolinecolor\": \"white\"}, \"yaxis\": {\"backgroundcolor\": \"#E5ECF6\", \"gridcolor\": \"white\", \"gridwidth\": 2, \"linecolor\": \"white\", \"showbackground\": true, \"ticks\": \"\", \"zerolinecolor\": \"white\"}, \"zaxis\": {\"backgroundcolor\": \"#E5ECF6\", \"gridcolor\": \"white\", \"gridwidth\": 2, \"linecolor\": \"white\", \"showbackground\": true, \"ticks\": \"\", \"zerolinecolor\": \"white\"}}, \"shapedefaults\": {\"line\": {\"color\": \"#2a3f5f\"}}, \"ternary\": {\"aaxis\": {\"gridcolor\": \"white\", \"linecolor\": \"white\", \"ticks\": \"\"}, \"baxis\": {\"gridcolor\": \"white\", \"linecolor\": \"white\", \"ticks\": \"\"}, \"bgcolor\": \"#E5ECF6\", \"caxis\": {\"gridcolor\": \"white\", \"linecolor\": \"white\", \"ticks\": \"\"}}, \"title\": {\"x\": 0.05}, \"xaxis\": {\"automargin\": true, \"gridcolor\": \"white\", \"linecolor\": \"white\", \"ticks\": \"\", \"title\": {\"standoff\": 15}, \"zerolinecolor\": \"white\", \"zerolinewidth\": 2}, \"yaxis\": {\"automargin\": true, \"gridcolor\": \"white\", \"linecolor\": \"white\", \"ticks\": \"\", \"title\": {\"standoff\": 15}, \"zerolinecolor\": \"white\", \"zerolinewidth\": 2}}}, \"title\": {\"text\": \"Plastic Waste Generated By Country in 2010\"}},\n",
              "                        {\"responsive\": true}\n",
              "                    ).then(function(){\n",
              "                            \n",
              "var gd = document.getElementById('0d693196-33fa-40e3-a9fa-a63d26549712');\n",
              "var x = new MutationObserver(function (mutations, observer) {{\n",
              "        var display = window.getComputedStyle(gd).display;\n",
              "        if (!display || display === 'none') {{\n",
              "            console.log([gd, 'removed!']);\n",
              "            Plotly.purge(gd);\n",
              "            observer.disconnect();\n",
              "        }}\n",
              "}});\n",
              "\n",
              "// Listen for the removal of the full notebook cells\n",
              "var notebookContainer = gd.closest('#notebook-container');\n",
              "if (notebookContainer) {{\n",
              "    x.observe(notebookContainer, {childList: true});\n",
              "}}\n",
              "\n",
              "// Listen for the clearing of the current output cell\n",
              "var outputEl = gd.closest('.output');\n",
              "if (outputEl) {{\n",
              "    x.observe(outputEl, {childList: true});\n",
              "}}\n",
              "\n",
              "                        })\n",
              "                };\n",
              "                \n",
              "            </script>\n",
              "        </div>\n",
              "</body>\n",
              "</html>"
            ]
          },
          "metadata": {}
        }
      ]
    },
    {
      "cell_type": "code",
      "metadata": {
        "colab": {
          "base_uri": "https://localhost:8080/",
          "height": 542
        },
        "cellView": "form",
        "id": "8cx4mi0nuFb-",
        "outputId": "83202da6-9cfd-4fe0-9306-632eeaa01350"
      },
      "source": [
        "#@title\n",
        "merged = gdf.merge(df, left_on='ADMIN', right_on='Entity')\n",
        "\n",
        "merged = merged.loc[merged.Year == 2025,:]\n",
        "\n",
        "fig = go.Figure(data=go.Choropleth(\n",
        "    locations = merged['GU_A3'],\n",
        "    z = merged['Plastic waste generated (% global total)'],\n",
        "    text = merged['Entity'],\n",
        "    colorscale = 'Blues',\n",
        "    autocolorscale=False,\n",
        "    reversescale=True,\n",
        "    marker_line_color='darkgray',\n",
        "    marker_line_width=0.5,\n",
        "    colorbar_ticksuffix = '%',\n",
        "    colorbar_title = '% of Global Total',\n",
        "))\n",
        "\n",
        "fig.update_layout(\n",
        "    title_text='Projected Plastic Waste Generated By Country in 2025',\n",
        "    geo=dict(\n",
        "        showframe=False,\n",
        "        showcoastlines=False,\n",
        "        projection_type='equirectangular'\n",
        "    ),\n",
        "    annotations = [dict(\n",
        "        x=0.55,\n",
        "        y=0.1,\n",
        "        xref='paper',\n",
        "        yref='paper',\n",
        "        text='Source: <a href=\"https://github.com/owid/owid-datasets/blob/master/datasets/Plastic%20waste%20percentages%20-%20Jambeck%20et%20al.%20(2015)/README.md#plastic-waste-percentages---jambeck-et-al-2015.html\">\\\n",
        "            GitHub</a>',\n",
        "        showarrow = False\n",
        "    )]\n",
        ")\n",
        "\n",
        "fig.show()"
      ],
      "execution_count": 114,
      "outputs": [
        {
          "output_type": "display_data",
          "data": {
            "text/html": [
              "<html>\n",
              "<head><meta charset=\"utf-8\" /></head>\n",
              "<body>\n",
              "    <div>\n",
              "            <script src=\"https://cdnjs.cloudflare.com/ajax/libs/mathjax/2.7.5/MathJax.js?config=TeX-AMS-MML_SVG\"></script><script type=\"text/javascript\">if (window.MathJax) {MathJax.Hub.Config({SVG: {font: \"STIX-Web\"}});}</script>\n",
              "                <script type=\"text/javascript\">window.PlotlyConfig = {MathJaxConfig: 'local'};</script>\n",
              "        <script src=\"https://cdn.plot.ly/plotly-latest.min.js\"></script>    \n",
              "            <div id=\"9941645c-cacc-40ec-b844-2e74c66c9cf8\" class=\"plotly-graph-div\" style=\"height:525px; width:100%;\"></div>\n",
              "            <script type=\"text/javascript\">\n",
              "                \n",
              "                    window.PLOTLYENV=window.PLOTLYENV || {};\n",
              "                    \n",
              "                if (document.getElementById(\"9941645c-cacc-40ec-b844-2e74c66c9cf8\")) {\n",
              "                    Plotly.newPlot(\n",
              "                        '9941645c-cacc-40ec-b844-2e74c66c9cf8',\n",
              "                        [{\"autocolorscale\": false, \"colorbar\": {\"ticksuffix\": \"%\", \"title\": {\"text\": \"% of Global Total\"}}, \"colorscale\": [[0.0, \"rgb(247,251,255)\"], [0.125, \"rgb(222,235,247)\"], [0.25, \"rgb(198,219,239)\"], [0.375, \"rgb(158,202,225)\"], [0.5, \"rgb(107,174,214)\"], [0.625, \"rgb(66,146,198)\"], [0.75, \"rgb(33,113,181)\"], [0.875, \"rgb(8,81,156)\"], [1.0, \"rgb(8,48,107)\"]], \"locations\": [\"FJI\", \"CAN\", \"USA\", \"PNG\", \"IDN\", \"ARG\", \"CHL\", \"SOM\", \"KEN\", \"SDN\", \"HTI\", \"DOM\", \"RUS\", \"FLK\", \"NOR\", \"GRL\", \"ZAF\", \"MEX\", \"URY\", \"BRA\", \"PER\", \"COL\", \"PAN\", \"CRI\", \"NIC\", \"HND\", \"SLV\", \"GTM\", \"BLZ\", \"VEN\", \"GUY\", \"SUR\", \"FRA\", \"ECU\", \"PRI\", \"JAM\", \"CUB\", \"NAM\", \"SEN\", \"MRT\", \"BEN\", \"NGA\", \"CMR\", \"TGO\", \"GHA\", \"GIN\", \"GNB\", \"LBR\", \"SLE\", \"GAB\", \"GNQ\", \"MOZ\", \"AGO\", \"ISR\", \"LBN\", \"MDG\", \"PSX\", \"GMB\", \"TUN\", \"DZA\", \"JOR\", \"ARE\", \"QAT\", \"KWT\", \"IRQ\", \"OMN\", \"VUT\", \"KHM\", \"THA\", \"MMR\", \"VNM\", \"PRK\", \"KOR\", \"IND\", \"BGD\", \"PAK\", \"IRN\", \"SYR\", \"SWE\", \"UKR\", \"POL\", \"ROU\", \"LTU\", \"LVA\", \"EST\", \"DEU\", \"BGR\", \"GRC\", \"TUR\", \"ALB\", \"HRV\", \"BEL\", \"NLD\", \"PRT\", \"ESP\", \"IRL\", \"NCL\", \"SLB\", \"NZL\", \"AUS\", \"LKA\", \"CHN\", \"TWN\", \"ITA\", \"DNK\", \"GBR\", \"ISL\", \"GEO\", \"PHL\", \"MYS\", \"BRN\", \"SVN\", \"FIN\", \"ERI\", \"JPN\", \"YEM\", \"SAU\", \"CYP\", \"MAR\", \"EGY\", \"LBY\", \"DJI\", \"BIH\", \"MNE\", \"TTO\"], \"marker\": {\"line\": {\"color\": \"darkgray\", \"width\": 0.5}}, \"reversescale\": true, \"text\": [\"Fiji\", \"Canada\", \"United States of America\", \"Papua New Guinea\", \"Indonesia\", \"Argentina\", \"Chile\", \"Somalia\", \"Kenya\", \"Sudan\", \"Haiti\", \"Dominican Republic\", \"Russia\", \"Falkland Islands\", \"Norway\", \"Greenland\", \"South Africa\", \"Mexico\", \"Uruguay\", \"Brazil\", \"Peru\", \"Colombia\", \"Panama\", \"Costa Rica\", \"Nicaragua\", \"Honduras\", \"El Salvador\", \"Guatemala\", \"Belize\", \"Venezuela\", \"Guyana\", \"Suriname\", \"France\", \"Ecuador\", \"Puerto Rico\", \"Jamaica\", \"Cuba\", \"Namibia\", \"Senegal\", \"Mauritania\", \"Benin\", \"Nigeria\", \"Cameroon\", \"Togo\", \"Ghana\", \"Guinea\", \"Guinea-Bissau\", \"Liberia\", \"Sierra Leone\", \"Gabon\", \"Equatorial Guinea\", \"Mozambique\", \"Angola\", \"Israel\", \"Lebanon\", \"Madagascar\", \"Palestine\", \"Gambia\", \"Tunisia\", \"Algeria\", \"Jordan\", \"United Arab Emirates\", \"Qatar\", \"Kuwait\", \"Iraq\", \"Oman\", \"Vanuatu\", \"Cambodia\", \"Thailand\", \"Myanmar\", \"Vietnam\", \"North Korea\", \"South Korea\", \"India\", \"Bangladesh\", \"Pakistan\", \"Iran\", \"Syria\", \"Sweden\", \"Ukraine\", \"Poland\", \"Romania\", \"Lithuania\", \"Latvia\", \"Estonia\", \"Germany\", \"Bulgaria\", \"Greece\", \"Turkey\", \"Albania\", \"Croatia\", \"Belgium\", \"Netherlands\", \"Portugal\", \"Spain\", \"Ireland\", \"New Caledonia\", \"Solomon Islands\", \"New Zealand\", \"Australia\", \"Sri Lanka\", \"China\", \"Taiwan\", \"Italy\", \"Denmark\", \"United Kingdom\", \"Iceland\", \"Georgia\", \"Philippines\", \"Malaysia\", \"Brunei\", \"Slovenia\", \"Finland\", \"Eritrea\", \"Japan\", \"Yemen\", \"Saudi Arabia\", \"Cyprus\", \"Morocco\", \"Egypt\", \"Libya\", \"Djibouti\", \"Bosnia and Herzegovina\", \"Montenegro\", \"Trinidad and Tobago\"], \"type\": \"choropleth\", \"z\": [0.1028, 0.0212, 0.4876, 0.3508, 10.7345, 0.4635, 0.0616, 0.4192, 0.1261, 0.0754, 0.4693, 0.331, 0.1867, 0.0, 0.0142, 0.0002, 1.2106, 0.3379, 0.0116, 1.3813, 0.5459, 0.2605, 0.1024, 0.1099, 0.2453, 0.2738, 0.3284, 0.2283, 0.0087, 0.2233, 0.0523, 0.0093, 0.0502, 0.3055, 0.0296, 0.0862, 0.2612, 0.0164, 1.0687, 0.0575, 0.1729, 3.5916, 0.10400000000000001, 0.1404, 0.4706, 0.0867, 0.0752, 0.2067, 0.1756, 0.0224, 0.0204, 0.4156, 0.198, 0.0408, 0.1474, 0.2571, 0.027000000000000003, 0.0774, 0.638, 1.4729, 0.0043, 0.0086, 0.0023, 0.0195, 0.069, 0.017, 0.055, 0.091, 3.1551, 1.6637, 6.0407, 0.8839, 0.0764, 4.1711, 3.1996, 1.7682, 0.6659999999999999, 0.4415, 0.0076, 0.3379, 0.0389, 0.012, 0.0079, 0.0241, 0.0121, 0.0482, 0.0373, 0.027000000000000003, 1.1440000000000001, 0.0913, 0.0284, 0.0083, 0.0469, 0.0281, 0.0853, 0.0203, 0.001, 0.2556, 0.0167, 0.0357, 2.7775, 25.7893, 0.0936, 0.0652, 0.0061, 0.1363, 0.0013, 0.0355, 7.3661, 2.5565, 0.0005, 0.0014, 0.0093, 0.0629, 0.2566, 0.7440000000000001, 0.0635, 0.0038, 1.0229, 2.8047, 0.1485, 0.066, 0.0292, 0.0105, 0.1064]}],\n",
              "                        {\"annotations\": [{\"showarrow\": false, \"text\": \"Source: <a href=\\\"https://github.com/owid/owid-datasets/blob/master/datasets/Plastic%20waste%20percentages%20-%20Jambeck%20et%20al.%20(2015)/README.md#plastic-waste-percentages---jambeck-et-al-2015.html\\\">            GitHub</a>\", \"x\": 0.55, \"xref\": \"paper\", \"y\": 0.1, \"yref\": \"paper\"}], \"geo\": {\"projection\": {\"type\": \"equirectangular\"}, \"showcoastlines\": false, \"showframe\": false}, \"template\": {\"data\": {\"bar\": [{\"error_x\": {\"color\": \"#2a3f5f\"}, \"error_y\": {\"color\": \"#2a3f5f\"}, \"marker\": {\"line\": {\"color\": \"#E5ECF6\", \"width\": 0.5}}, \"type\": \"bar\"}], \"barpolar\": [{\"marker\": {\"line\": {\"color\": \"#E5ECF6\", \"width\": 0.5}}, \"type\": \"barpolar\"}], \"carpet\": [{\"aaxis\": {\"endlinecolor\": \"#2a3f5f\", \"gridcolor\": \"white\", \"linecolor\": \"white\", \"minorgridcolor\": \"white\", \"startlinecolor\": \"#2a3f5f\"}, \"baxis\": {\"endlinecolor\": \"#2a3f5f\", \"gridcolor\": \"white\", \"linecolor\": \"white\", \"minorgridcolor\": \"white\", \"startlinecolor\": \"#2a3f5f\"}, \"type\": \"carpet\"}], \"choropleth\": [{\"colorbar\": {\"outlinewidth\": 0, \"ticks\": \"\"}, \"type\": \"choropleth\"}], \"contour\": [{\"colorbar\": {\"outlinewidth\": 0, \"ticks\": \"\"}, \"colorscale\": [[0.0, \"#0d0887\"], [0.1111111111111111, \"#46039f\"], [0.2222222222222222, \"#7201a8\"], [0.3333333333333333, \"#9c179e\"], [0.4444444444444444, \"#bd3786\"], [0.5555555555555556, \"#d8576b\"], [0.6666666666666666, \"#ed7953\"], [0.7777777777777778, \"#fb9f3a\"], [0.8888888888888888, \"#fdca26\"], [1.0, \"#f0f921\"]], \"type\": \"contour\"}], \"contourcarpet\": [{\"colorbar\": {\"outlinewidth\": 0, \"ticks\": \"\"}, \"type\": \"contourcarpet\"}], \"heatmap\": [{\"colorbar\": {\"outlinewidth\": 0, \"ticks\": \"\"}, \"colorscale\": [[0.0, \"#0d0887\"], [0.1111111111111111, \"#46039f\"], [0.2222222222222222, \"#7201a8\"], [0.3333333333333333, \"#9c179e\"], [0.4444444444444444, \"#bd3786\"], [0.5555555555555556, \"#d8576b\"], [0.6666666666666666, \"#ed7953\"], [0.7777777777777778, \"#fb9f3a\"], [0.8888888888888888, \"#fdca26\"], [1.0, \"#f0f921\"]], \"type\": \"heatmap\"}], \"heatmapgl\": [{\"colorbar\": {\"outlinewidth\": 0, \"ticks\": \"\"}, \"colorscale\": [[0.0, \"#0d0887\"], [0.1111111111111111, \"#46039f\"], [0.2222222222222222, \"#7201a8\"], [0.3333333333333333, \"#9c179e\"], [0.4444444444444444, \"#bd3786\"], [0.5555555555555556, \"#d8576b\"], [0.6666666666666666, \"#ed7953\"], [0.7777777777777778, \"#fb9f3a\"], [0.8888888888888888, \"#fdca26\"], [1.0, \"#f0f921\"]], \"type\": \"heatmapgl\"}], \"histogram\": [{\"marker\": {\"colorbar\": {\"outlinewidth\": 0, \"ticks\": \"\"}}, \"type\": \"histogram\"}], \"histogram2d\": [{\"colorbar\": {\"outlinewidth\": 0, \"ticks\": \"\"}, \"colorscale\": [[0.0, \"#0d0887\"], [0.1111111111111111, \"#46039f\"], [0.2222222222222222, \"#7201a8\"], [0.3333333333333333, \"#9c179e\"], [0.4444444444444444, \"#bd3786\"], [0.5555555555555556, \"#d8576b\"], [0.6666666666666666, \"#ed7953\"], [0.7777777777777778, \"#fb9f3a\"], [0.8888888888888888, \"#fdca26\"], [1.0, \"#f0f921\"]], \"type\": \"histogram2d\"}], \"histogram2dcontour\": [{\"colorbar\": {\"outlinewidth\": 0, \"ticks\": \"\"}, \"colorscale\": [[0.0, \"#0d0887\"], [0.1111111111111111, \"#46039f\"], [0.2222222222222222, \"#7201a8\"], [0.3333333333333333, \"#9c179e\"], [0.4444444444444444, \"#bd3786\"], [0.5555555555555556, \"#d8576b\"], [0.6666666666666666, \"#ed7953\"], [0.7777777777777778, \"#fb9f3a\"], [0.8888888888888888, \"#fdca26\"], [1.0, \"#f0f921\"]], \"type\": \"histogram2dcontour\"}], \"mesh3d\": [{\"colorbar\": {\"outlinewidth\": 0, \"ticks\": \"\"}, \"type\": \"mesh3d\"}], \"parcoords\": [{\"line\": {\"colorbar\": {\"outlinewidth\": 0, \"ticks\": \"\"}}, \"type\": \"parcoords\"}], \"pie\": [{\"automargin\": true, \"type\": \"pie\"}], \"scatter\": [{\"marker\": {\"colorbar\": {\"outlinewidth\": 0, \"ticks\": \"\"}}, \"type\": \"scatter\"}], \"scatter3d\": [{\"line\": {\"colorbar\": {\"outlinewidth\": 0, \"ticks\": \"\"}}, \"marker\": {\"colorbar\": {\"outlinewidth\": 0, \"ticks\": \"\"}}, \"type\": \"scatter3d\"}], \"scattercarpet\": [{\"marker\": {\"colorbar\": {\"outlinewidth\": 0, \"ticks\": \"\"}}, \"type\": \"scattercarpet\"}], \"scattergeo\": [{\"marker\": {\"colorbar\": {\"outlinewidth\": 0, \"ticks\": \"\"}}, \"type\": \"scattergeo\"}], \"scattergl\": [{\"marker\": {\"colorbar\": {\"outlinewidth\": 0, \"ticks\": \"\"}}, \"type\": \"scattergl\"}], \"scattermapbox\": [{\"marker\": {\"colorbar\": {\"outlinewidth\": 0, \"ticks\": \"\"}}, \"type\": \"scattermapbox\"}], \"scatterpolar\": [{\"marker\": {\"colorbar\": {\"outlinewidth\": 0, \"ticks\": \"\"}}, \"type\": \"scatterpolar\"}], \"scatterpolargl\": [{\"marker\": {\"colorbar\": {\"outlinewidth\": 0, \"ticks\": \"\"}}, \"type\": \"scatterpolargl\"}], \"scatterternary\": [{\"marker\": {\"colorbar\": {\"outlinewidth\": 0, \"ticks\": \"\"}}, \"type\": \"scatterternary\"}], \"surface\": [{\"colorbar\": {\"outlinewidth\": 0, \"ticks\": \"\"}, \"colorscale\": [[0.0, \"#0d0887\"], [0.1111111111111111, \"#46039f\"], [0.2222222222222222, \"#7201a8\"], [0.3333333333333333, \"#9c179e\"], [0.4444444444444444, \"#bd3786\"], [0.5555555555555556, \"#d8576b\"], [0.6666666666666666, \"#ed7953\"], [0.7777777777777778, \"#fb9f3a\"], [0.8888888888888888, \"#fdca26\"], [1.0, \"#f0f921\"]], \"type\": \"surface\"}], \"table\": [{\"cells\": {\"fill\": {\"color\": \"#EBF0F8\"}, \"line\": {\"color\": \"white\"}}, \"header\": {\"fill\": {\"color\": \"#C8D4E3\"}, \"line\": {\"color\": \"white\"}}, \"type\": \"table\"}]}, \"layout\": {\"annotationdefaults\": {\"arrowcolor\": \"#2a3f5f\", \"arrowhead\": 0, \"arrowwidth\": 1}, \"coloraxis\": {\"colorbar\": {\"outlinewidth\": 0, \"ticks\": \"\"}}, \"colorscale\": {\"diverging\": [[0, \"#8e0152\"], [0.1, \"#c51b7d\"], [0.2, \"#de77ae\"], [0.3, \"#f1b6da\"], [0.4, \"#fde0ef\"], [0.5, \"#f7f7f7\"], [0.6, \"#e6f5d0\"], [0.7, \"#b8e186\"], [0.8, \"#7fbc41\"], [0.9, \"#4d9221\"], [1, \"#276419\"]], \"sequential\": [[0.0, \"#0d0887\"], [0.1111111111111111, \"#46039f\"], [0.2222222222222222, \"#7201a8\"], [0.3333333333333333, \"#9c179e\"], [0.4444444444444444, \"#bd3786\"], [0.5555555555555556, \"#d8576b\"], [0.6666666666666666, \"#ed7953\"], [0.7777777777777778, \"#fb9f3a\"], [0.8888888888888888, \"#fdca26\"], [1.0, \"#f0f921\"]], \"sequentialminus\": [[0.0, \"#0d0887\"], [0.1111111111111111, \"#46039f\"], [0.2222222222222222, \"#7201a8\"], [0.3333333333333333, \"#9c179e\"], [0.4444444444444444, \"#bd3786\"], [0.5555555555555556, \"#d8576b\"], [0.6666666666666666, \"#ed7953\"], [0.7777777777777778, \"#fb9f3a\"], [0.8888888888888888, \"#fdca26\"], [1.0, \"#f0f921\"]]}, \"colorway\": [\"#636efa\", \"#EF553B\", \"#00cc96\", \"#ab63fa\", \"#FFA15A\", \"#19d3f3\", \"#FF6692\", \"#B6E880\", \"#FF97FF\", \"#FECB52\"], \"font\": {\"color\": \"#2a3f5f\"}, \"geo\": {\"bgcolor\": \"white\", \"lakecolor\": \"white\", \"landcolor\": \"#E5ECF6\", \"showlakes\": true, \"showland\": true, \"subunitcolor\": \"white\"}, \"hoverlabel\": {\"align\": \"left\"}, \"hovermode\": \"closest\", \"mapbox\": {\"style\": \"light\"}, \"paper_bgcolor\": \"white\", \"plot_bgcolor\": \"#E5ECF6\", \"polar\": {\"angularaxis\": {\"gridcolor\": \"white\", \"linecolor\": \"white\", \"ticks\": \"\"}, \"bgcolor\": \"#E5ECF6\", \"radialaxis\": {\"gridcolor\": \"white\", \"linecolor\": \"white\", \"ticks\": \"\"}}, \"scene\": {\"xaxis\": {\"backgroundcolor\": \"#E5ECF6\", \"gridcolor\": \"white\", \"gridwidth\": 2, \"linecolor\": \"white\", \"showbackground\": true, \"ticks\": \"\", \"zerolinecolor\": \"white\"}, \"yaxis\": {\"backgroundcolor\": \"#E5ECF6\", \"gridcolor\": \"white\", \"gridwidth\": 2, \"linecolor\": \"white\", \"showbackground\": true, \"ticks\": \"\", \"zerolinecolor\": \"white\"}, \"zaxis\": {\"backgroundcolor\": \"#E5ECF6\", \"gridcolor\": \"white\", \"gridwidth\": 2, \"linecolor\": \"white\", \"showbackground\": true, \"ticks\": \"\", \"zerolinecolor\": \"white\"}}, \"shapedefaults\": {\"line\": {\"color\": \"#2a3f5f\"}}, \"ternary\": {\"aaxis\": {\"gridcolor\": \"white\", \"linecolor\": \"white\", \"ticks\": \"\"}, \"baxis\": {\"gridcolor\": \"white\", \"linecolor\": \"white\", \"ticks\": \"\"}, \"bgcolor\": \"#E5ECF6\", \"caxis\": {\"gridcolor\": \"white\", \"linecolor\": \"white\", \"ticks\": \"\"}}, \"title\": {\"x\": 0.05}, \"xaxis\": {\"automargin\": true, \"gridcolor\": \"white\", \"linecolor\": \"white\", \"ticks\": \"\", \"title\": {\"standoff\": 15}, \"zerolinecolor\": \"white\", \"zerolinewidth\": 2}, \"yaxis\": {\"automargin\": true, \"gridcolor\": \"white\", \"linecolor\": \"white\", \"ticks\": \"\", \"title\": {\"standoff\": 15}, \"zerolinecolor\": \"white\", \"zerolinewidth\": 2}}}, \"title\": {\"text\": \"Projected Plastic Waste Generated By Country in 2025\"}},\n",
              "                        {\"responsive\": true}\n",
              "                    ).then(function(){\n",
              "                            \n",
              "var gd = document.getElementById('9941645c-cacc-40ec-b844-2e74c66c9cf8');\n",
              "var x = new MutationObserver(function (mutations, observer) {{\n",
              "        var display = window.getComputedStyle(gd).display;\n",
              "        if (!display || display === 'none') {{\n",
              "            console.log([gd, 'removed!']);\n",
              "            Plotly.purge(gd);\n",
              "            observer.disconnect();\n",
              "        }}\n",
              "}});\n",
              "\n",
              "// Listen for the removal of the full notebook cells\n",
              "var notebookContainer = gd.closest('#notebook-container');\n",
              "if (notebookContainer) {{\n",
              "    x.observe(notebookContainer, {childList: true});\n",
              "}}\n",
              "\n",
              "// Listen for the clearing of the current output cell\n",
              "var outputEl = gd.closest('.output');\n",
              "if (outputEl) {{\n",
              "    x.observe(outputEl, {childList: true});\n",
              "}}\n",
              "\n",
              "                        })\n",
              "                };\n",
              "                \n",
              "            </script>\n",
              "        </div>\n",
              "</body>\n",
              "</html>"
            ]
          },
          "metadata": {}
        }
      ]
    }
  ]
}